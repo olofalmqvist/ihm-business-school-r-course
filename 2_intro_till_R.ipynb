{
 "cells": [
  {
   "cell_type": "markdown",
   "metadata": {
    "id": "9TEVKE5Dv4M3",
    "slideshow": {
     "slide_type": "slide"
    }
   },
   "source": [
    "# IHM - Prediktiv analys\n",
    "## Digital Marketing & Sales Analytics\n",
    "### - Lektion 2: Introduktion till R"
   ]
  },
  {
   "cell_type": "markdown",
   "metadata": {
    "id": "I84x3v1dzTkb",
    "slideshow": {
     "slide_type": "subslide"
    }
   },
   "source": [
    "I kursen använder vi Jupyter Notebook som i grunden är till för Python men det går även att skriva R-kod. Dock måste varje cell börja med \"%%R\" för att det ska fungera och det kommer ni se en hel del i R-delarna av kursen."
   ]
  },
  {
   "cell_type": "code",
   "execution_count": 2,
   "metadata": {
    "colab": {
     "base_uri": "https://localhost:8080/"
    },
    "id": "iL6bBglPwLEz",
    "outputId": "a4619cb8-7d77-4182-e0cf-2e4825a7117f",
    "slideshow": {
     "slide_type": "fragment"
    }
   },
   "outputs": [
    {
     "name": "stdout",
     "output_type": "stream",
     "text": [
      "The rpy2.ipython extension is already loaded. To reload it, use:\n",
      "  %reload_ext rpy2.ipython\n"
     ]
    }
   ],
   "source": [
    "%load_ext rpy2.ipython"
   ]
  },
  {
   "cell_type": "code",
   "execution_count": 3,
   "metadata": {
    "colab": {
     "base_uri": "https://localhost:8080/"
    },
    "id": "1f1MW6QKvD1n",
    "outputId": "064709ae-922d-4b2a-faab-076c71a2c5bb",
    "slideshow": {
     "slide_type": "fragment"
    }
   },
   "outputs": [
    {
     "name": "stdout",
     "output_type": "stream",
     "text": [
      "[1] \"Hello, World\"\n",
      "[1] \"Hello, World\"\n"
     ]
    }
   ],
   "source": [
    "%%R\n",
    "\n",
    "print(\"Hello, World\")\n",
    "print('Hello, World')"
   ]
  },
  {
   "cell_type": "markdown",
   "metadata": {
    "id": "GrsAWdyTw7vB",
    "slideshow": {
     "slide_type": "subslide"
    }
   },
   "source": [
    "I R kan både = och <- användas för att assigna värden till variabler men oftast används <- med hänvisning till att likamed-tecknet bör användas för att assigna argument till parametrar.\n",
    "\n",
    "I vissa språk är datatyper hårt styrda genom att man exempelvis måste skriva \"int my_int = 5\" för att kunna skapa variabeln my_int som har datatypen integer (int). Så är det inte i R utan datatypen läses in automatiskt vid initieringen."
   ]
  },
  {
   "cell_type": "code",
   "execution_count": 4,
   "metadata": {
    "id": "38v_7gcBwSOT",
    "slideshow": {
     "slide_type": "fragment"
    }
   },
   "outputs": [],
   "source": [
    "%%R\n",
    "\n",
    "my_integer <- 5\n",
    "my_decimal <- 5.3\n",
    "my_string <- \"hejhej\"\n",
    "my_null <- NULL"
   ]
  },
  {
   "cell_type": "markdown",
   "metadata": {
    "id": "7l63Surhxx5l",
    "slideshow": {
     "slide_type": "subslide"
    }
   },
   "source": [
    "I R är den stora uppdelningen mellan numeriska värden och strängar som kallas characters. Både integers och decimaltal är numeriska medan strängvärden är characters vilka ofta kodas som faktorer eller kategorier."
   ]
  },
  {
   "cell_type": "code",
   "execution_count": 5,
   "metadata": {
    "colab": {
     "base_uri": "https://localhost:8080/"
    },
    "id": "meuFR4Cax7J2",
    "outputId": "b2e1950d-8339-48f5-eb47-7bde208ffda8",
    "slideshow": {
     "slide_type": "fragment"
    }
   },
   "outputs": [
    {
     "name": "stdout",
     "output_type": "stream",
     "text": [
      "[1] TRUE\n",
      "[1] TRUE\n",
      "[1] FALSE\n"
     ]
    }
   ],
   "source": [
    "%%R\n",
    "\n",
    "print(is.numeric(5))\n",
    "print(is.numeric(5.3))\n",
    "print(is.numeric('abc'))"
   ]
  },
  {
   "cell_type": "code",
   "execution_count": 6,
   "metadata": {
    "colab": {
     "base_uri": "https://localhost:8080/"
    },
    "id": "7bXWYLzzyHsR",
    "outputId": "7d7c7ce8-5921-4752-c451-1711a727236b",
    "slideshow": {
     "slide_type": "fragment"
    }
   },
   "outputs": [
    {
     "name": "stdout",
     "output_type": "stream",
     "text": [
      "[1] FALSE\n",
      "[1] FALSE\n",
      "[1] TRUE\n"
     ]
    }
   ],
   "source": [
    "%%R\n",
    "\n",
    "print(is.character(5))\n",
    "print(is.character(5.3))\n",
    "print(is.character('abc'))"
   ]
  },
  {
   "cell_type": "markdown",
   "metadata": {
    "id": "CnvjKG0pyimF",
    "slideshow": {
     "slide_type": "subslide"
    }
   },
   "source": [
    "Om man vill skriva ut en text ihop med en variabel kan man använda funktionen paste()."
   ]
  },
  {
   "cell_type": "code",
   "execution_count": 7,
   "metadata": {
    "colab": {
     "base_uri": "https://localhost:8080/"
    },
    "id": "P6HvLkl4ynxV",
    "outputId": "05be5bdb-70ee-4c50-9467-43909728d640",
    "slideshow": {
     "slide_type": "fragment"
    }
   },
   "outputs": [
    {
     "name": "stdout",
     "output_type": "stream",
     "text": [
      "[1] \"Koppla ihop texten med en variabel,  5\"\n",
      "[1] \"Koppla ihop texten med en variabel,  25\"\n",
      "[1] \"Hello guys!\"\n"
     ]
    }
   ],
   "source": [
    "%%R \n",
    "\n",
    "print(paste(\"Koppla ihop texten med en variabel, \", my_integer))\n",
    "\n",
    "print(paste(\"Koppla ihop texten med en variabel, \", my_integer*5))\n",
    "\n",
    "my_text_to_print = \"Hello guys!\"\n",
    "print(my_text_to_print)"
   ]
  },
  {
   "cell_type": "markdown",
   "metadata": {
    "id": "maBnCckzzAkR",
    "slideshow": {
     "slide_type": "subslide"
    }
   },
   "source": [
    "Det går även att använda klassiska logiska selektioner i R"
   ]
  },
  {
   "cell_type": "code",
   "execution_count": 8,
   "metadata": {
    "colab": {
     "base_uri": "https://localhost:8080/"
    },
    "id": "QBqy9bN0zE8L",
    "outputId": "997acd34-3393-4283-8802-317ffb56e255",
    "slideshow": {
     "slide_type": "fragment"
    }
   },
   "outputs": [
    {
     "name": "stdout",
     "output_type": "stream",
     "text": [
      "[1] \"a var fem\"\n"
     ]
    }
   ],
   "source": [
    "%%R\n",
    "\n",
    "a <- 5\n",
    "\n",
    "if(a == 5) {\n",
    "    print(\"a var fem\")\n",
    "}\n",
    "else {\n",
    "    print(\"a var inte fem\")\n",
    "}"
   ]
  },
  {
   "cell_type": "code",
   "execution_count": 9,
   "metadata": {
    "colab": {
     "base_uri": "https://localhost:8080/"
    },
    "id": "qdK43bqKzht5",
    "outputId": "0e55243f-f7be-4de4-d7b0-3ebbc6ef43c5",
    "slideshow": {
     "slide_type": "subslide"
    }
   },
   "outputs": [
    {
     "name": "stdout",
     "output_type": "stream",
     "text": [
      "[1] \"a var fem och b var tre\"\n",
      "[1] \"a var fem och b var tre på det här sättet också\"\n"
     ]
    }
   ],
   "source": [
    "%%R\n",
    "\n",
    "b <- 3\n",
    "\n",
    "if(a == 5 & b == 3) {\n",
    "    print(\"a var fem och b var tre\")\n",
    "}\n",
    "\n",
    "if(a == 5) {\n",
    "    if(b == 3) {\n",
    "        print(\"a var fem och b var tre på det här sättet också\")\n",
    "    }\n",
    "}"
   ]
  },
  {
   "cell_type": "markdown",
   "metadata": {
    "id": "CJxr0wM1z0sn",
    "slideshow": {
     "slide_type": "subslide"
    }
   },
   "source": [
    "Selektioner där man använder if, else och else if är viktigt att lära sig och återkommer i alla programmeringsspråk. Det är anses vara \"clean code\" när man försöker använda så lite komplexitet som möjligt i sina selektioner (exempelvis genom att undvika nästlade selektioner). "
   ]
  },
  {
   "cell_type": "code",
   "execution_count": 11,
   "metadata": {
    "colab": {
     "base_uri": "https://localhost:8080/"
    },
    "id": "jJRYNiMb0Qda",
    "outputId": "107bc190-16d7-49e5-dbec-57fd78b7a44b",
    "slideshow": {
     "slide_type": "fragment"
    }
   },
   "outputs": [
    {
     "name": "stdout",
     "output_type": "stream",
     "text": [
      "[1] \"b är mellan 1-5\"\n"
     ]
    }
   ],
   "source": [
    "%%R\n",
    "\n",
    "if(b > 5) {\n",
    "    print(\"b är större än 5\")\n",
    "}\n",
    "else if(b < 1) {\n",
    "    print(\"b är mindre än 1\")\n",
    "}\n",
    "else {\n",
    "    print(\"b är mellan 1-5\")\n",
    "}"
   ]
  },
  {
   "cell_type": "markdown",
   "metadata": {
    "id": "5XVdK1OSy-VU",
    "slideshow": {
     "slide_type": "subslide"
    }
   },
   "source": [
    "Jämförelseoperatorer i R är ==, !=, >, <, >=, <=. Dessa är likadana hos i stort sett alla programringsspråk."
   ]
  },
  {
   "cell_type": "markdown",
   "metadata": {
    "id": "3MBGxvxczNRe",
    "slideshow": {
     "slide_type": "subslide"
    }
   },
   "source": [
    "Det vanligaste sättet att lagra data i R är antingen som en vektor eller som en dataframe. Vektorer skapas med funktionen c(), där c står för combine."
   ]
  },
  {
   "cell_type": "code",
   "execution_count": 12,
   "metadata": {
    "colab": {
     "base_uri": "https://localhost:8080/"
    },
    "id": "FznLknu2y6Pt",
    "outputId": "d439294c-6640-4bd9-bd38-5d5fbacef991",
    "slideshow": {
     "slide_type": "fragment"
    }
   },
   "outputs": [
    {
     "name": "stdout",
     "output_type": "stream",
     "text": [
      "[1] 1 1 2 3\n"
     ]
    }
   ],
   "source": [
    "%%R\n",
    "\n",
    "en_vector <- c(1, 1, 2, 3)\n",
    "\n",
    "print(en_vector)"
   ]
  },
  {
   "cell_type": "code",
   "execution_count": 13,
   "metadata": {
    "colab": {
     "base_uri": "https://localhost:8080/"
    },
    "id": "suPQCaAO4T-k",
    "outputId": "50a4ddfa-aa73-4556-f163-b174a950bf14",
    "slideshow": {
     "slide_type": "fragment"
    }
   },
   "outputs": [
    {
     "name": "stdout",
     "output_type": "stream",
     "text": [
      "[1] 1 1 2 3 9 8 7\n"
     ]
    }
   ],
   "source": [
    "%%R\n",
    "\n",
    "vector_två <- c(9, 8, 7)\n",
    "\n",
    "sammansatt_vektor <- c(en_vector, vector_två)\n",
    "\n",
    "print(sammansatt_vektor)"
   ]
  },
  {
   "cell_type": "code",
   "execution_count": 14,
   "metadata": {
    "colab": {
     "base_uri": "https://localhost:8080/"
    },
    "id": "YabkD646zZDx",
    "outputId": "67b3377a-aa2e-4ef4-bceb-2749d153c394",
    "slideshow": {
     "slide_type": "subslide"
    }
   },
   "outputs": [
    {
     "name": "stdout",
     "output_type": "stream",
     "text": [
      "  column_1 column_2\n",
      "1        1        a\n",
      "2        2        b\n",
      "3        3        c\n"
     ]
    }
   ],
   "source": [
    "%%R \n",
    "column_1 <- c(1, 2, 3)\n",
    "column_2 <- c(\"a\", \"b\", \"c\")\n",
    "\n",
    "en_dataframe <- data.frame(column_1, column_2)\n",
    "\n",
    "print(en_dataframe)"
   ]
  },
  {
   "cell_type": "code",
   "execution_count": 15,
   "metadata": {
    "colab": {
     "base_uri": "https://localhost:8080/"
    },
    "id": "TzS3S4ja0ROC",
    "outputId": "223ebfd5-b1af-4ee6-a782-22c7a71236bd",
    "slideshow": {
     "slide_type": "fragment"
    }
   },
   "outputs": [
    {
     "name": "stdout",
     "output_type": "stream",
     "text": [
      "[1] \"Första raden: \"\n",
      "  column_1 column_2\n",
      "1        1        a\n",
      "[1] \"Endast kolumnen column_1\"\n",
      "[1] 1 2 3\n"
     ]
    }
   ],
   "source": [
    "%%R\n",
    "\n",
    "print(\"Första raden: \")\n",
    "print(en_dataframe[1, ])\n",
    "\n",
    "print(\"Endast kolumnen column_1\")\n",
    "print(en_dataframe[, \"column_1\"])"
   ]
  },
  {
   "cell_type": "code",
   "execution_count": 16,
   "metadata": {
    "colab": {
     "base_uri": "https://localhost:8080/"
    },
    "id": "bBRlFP5b0eis",
    "outputId": "e8d110d6-f8e9-4309-8c13-ed9a159a9546",
    "slideshow": {
     "slide_type": "subslide"
    }
   },
   "outputs": [
    {
     "name": "stdout",
     "output_type": "stream",
     "text": [
      "[1] 1\n"
     ]
    }
   ],
   "source": [
    "%%R\n",
    "\n",
    "# Kommentarer skrivs i R med symbolen #\n",
    "# Värdet som ligger i index 1 i vektorn. \n",
    "# Vektorer och rader börjar på 1 i R till skillnad från Python där de börjar på 0.\n",
    "print(en_vector[1])"
   ]
  },
  {
   "cell_type": "markdown",
   "metadata": {
    "id": "zX19rIy405Rx",
    "slideshow": {
     "slide_type": "subslide"
    }
   },
   "source": [
    "For-loopar:"
   ]
  },
  {
   "cell_type": "code",
   "execution_count": 17,
   "metadata": {
    "colab": {
     "base_uri": "https://localhost:8080/"
    },
    "id": "QcVxqZ5V07Wt",
    "outputId": "2c483a1d-c25e-48ba-b995-844da6846f38",
    "slideshow": {
     "slide_type": "fragment"
    }
   },
   "outputs": [
    {
     "name": "stdout",
     "output_type": "stream",
     "text": [
      "[1] \"a\"\n",
      "[1] \"b\"\n",
      "[1] \"c\"\n"
     ]
    }
   ],
   "source": [
    "%%R\n",
    "\n",
    "loop_vector <- c(\"a\", \"b\", \"c\")\n",
    "\n",
    "for(i in loop_vector) {\n",
    "    print(i)\n",
    "}"
   ]
  },
  {
   "cell_type": "markdown",
   "metadata": {
    "id": "cME03rhN1Wx2",
    "slideshow": {
     "slide_type": "subslide"
    }
   },
   "source": [
    "While-loopar"
   ]
  },
  {
   "cell_type": "code",
   "execution_count": 18,
   "metadata": {
    "colab": {
     "base_uri": "https://localhost:8080/"
    },
    "id": "gl06ECNd1aHm",
    "outputId": "2bbcb7dc-562d-41b1-d025-36375c383cf9",
    "slideshow": {
     "slide_type": "fragment"
    }
   },
   "outputs": [
    {
     "name": "stdout",
     "output_type": "stream",
     "text": [
      "[1] \"a\"\n",
      "[1] \"b\"\n",
      "[1] \"c\"\n"
     ]
    }
   ],
   "source": [
    "%%R\n",
    "\n",
    "i <- 1\n",
    "while(i < 4) {\n",
    "    print(loop_vector[i])\n",
    "    i <- i + 1\n",
    "}"
   ]
  },
  {
   "cell_type": "markdown",
   "metadata": {
    "id": "TRND3H3P1-uQ",
    "slideshow": {
     "slide_type": "subslide"
    }
   },
   "source": [
    "Det går även att göra operationer på vektorer som att ta ut unika värden eller titta på storleken"
   ]
  },
  {
   "cell_type": "code",
   "execution_count": 19,
   "metadata": {
    "colab": {
     "base_uri": "https://localhost:8080/"
    },
    "id": "DPNrWqGi2FWJ",
    "outputId": "acb80df6-3605-4dbd-862c-00e2c207b3b6",
    "slideshow": {
     "slide_type": "fragment"
    }
   },
   "outputs": [
    {
     "name": "stdout",
     "output_type": "stream",
     "text": [
      "[1]  1  2 10 11\n",
      "[1] \"The length of the vector is: 6\"\n"
     ]
    }
   ],
   "source": [
    "%%R\n",
    "\n",
    "num_vector <- c(1, 1, 2, 10, 10, 11)\n",
    "\n",
    "print(unique(num_vector))\n",
    "print(paste(\"The length of the vector is:\", length(num_vector)))"
   ]
  },
  {
   "cell_type": "markdown",
   "metadata": {
    "id": "RaevdvyW2jkf",
    "slideshow": {
     "slide_type": "subslide"
    }
   },
   "source": [
    "Det går att undersöka om ett element existerar i en lista"
   ]
  },
  {
   "cell_type": "code",
   "execution_count": 20,
   "metadata": {
    "colab": {
     "base_uri": "https://localhost:8080/"
    },
    "id": "RD5GwWNp2j0l",
    "outputId": "8d6ad04c-94d6-44b5-cd00-320f65ca7fb0",
    "slideshow": {
     "slide_type": "fragment"
    }
   },
   "outputs": [
    {
     "name": "stdout",
     "output_type": "stream",
     "text": [
      "[1] \"The number 1 exists in the vector\"\n",
      "[1] \"The number 8 does not exist in the vector\"\n"
     ]
    }
   ],
   "source": [
    "%%R\n",
    "\n",
    "if(1 %in% num_vector) {\n",
    "    print(\"The number 1 exists in the vector\")\n",
    "}\n",
    "    \n",
    "if(8 %in% num_vector == FALSE) {\n",
    "    print(\"The number 8 does not exist in the vector\")\n",
    "}\n"
   ]
  },
  {
   "cell_type": "markdown",
   "metadata": {
    "id": "iSY5JdUd3Wwx",
    "slideshow": {
     "slide_type": "subslide"
    }
   },
   "source": [
    "Vidare går det att använda modulus i R för att undersöka om det finns något rest kvar. Det görs med operator %%."
   ]
  },
  {
   "cell_type": "code",
   "execution_count": 21,
   "metadata": {
    "colab": {
     "base_uri": "https://localhost:8080/"
    },
    "id": "B-_bP-mY3ab2",
    "outputId": "9c346f7d-e301-4eed-95f3-c92bc740517f",
    "slideshow": {
     "slide_type": "fragment"
    }
   },
   "outputs": [
    {
     "name": "stdout",
     "output_type": "stream",
     "text": [
      "[1] 0\n",
      "[1] 1\n"
     ]
    }
   ],
   "source": [
    "%%R\n",
    "\n",
    "print(4 %% 2)\n",
    "print(4 %% 3)"
   ]
  },
  {
   "cell_type": "markdown",
   "metadata": {
    "id": "PnBuTfps5WVm",
    "slideshow": {
     "slide_type": "subslide"
    }
   },
   "source": [
    "R skiljer sig från Python i att det är ett programmeringsspråk som är mycket hårdare kopplat till statistik och dataanalys. Python går också att använda till ren systemutveckling vilket man inte gör med R. \n",
    "\n",
    "Dataanalysen i Python bygger på några populära bibliotek som pandas, matplotlib och scikit learn. Ni kommer att få testa dessa i kursen. Dessa är en liten del av Python och det finns andra personer som använder språket för att t.ex. utveckla webbsidor, spel, systemscript och konsollapplikationer.\n",
    "\n",
    "Styrkan med R är att det har en otroligt stor rikedom av välanvända biliotek som stödjer i stort sett alla ovanliga statistiska test och analyser som finns. Vidare finns mycket funktioner för dataanalys inbyggda grundspråket - vilket ni kommer se i kursen. R är också mer funktionellt och använder mer funktioner medan i Python är det vanligare att med objektorienterad programmering med klasser.\n",
    "\n"
   ]
  }
 ],
 "metadata": {
  "celltoolbar": "Slideshow",
  "colab": {
   "collapsed_sections": [],
   "name": "2_intro_till_R.ipynb",
   "provenance": []
  },
  "kernelspec": {
   "display_name": "Python 3",
   "language": "python",
   "name": "python3"
  },
  "language_info": {
   "codemirror_mode": {
    "name": "ipython",
    "version": 3
   },
   "file_extension": ".py",
   "mimetype": "text/x-python",
   "name": "python",
   "nbconvert_exporter": "python",
   "pygments_lexer": "ipython3",
   "version": "3.7.4"
  }
 },
 "nbformat": 4,
 "nbformat_minor": 1
}
