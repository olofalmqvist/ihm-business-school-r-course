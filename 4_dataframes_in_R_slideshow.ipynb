{
 "cells": [
  {
   "cell_type": "markdown",
   "metadata": {
    "id": "iO83xgxY9AQG",
    "slideshow": {
     "slide_type": "slide"
    }
   },
   "source": [
    "# **IHM - Prediktiv analys**\n",
    "# **Digital Marketing & Sales Analytics**\n",
    "\n",
    "**-Lektion 4: Dataframes (pandas) i R**\n",
    "\n",
    "I Python är det standard att använda bibloteket Pandas när man vill arbeta med dataframes. I R är det i stället en datatyp som är inbyggd i grundspråket och behöver således inte importeras från ett externt bibliotek."
   ]
  },
  {
   "cell_type": "markdown",
   "metadata": {
    "id": "2GU81qMi-dDG",
    "slideshow": {
     "slide_type": "subslide"
    }
   },
   "source": [
    "För att kunna köra R i Jupyter Notebooks (som detta verktyg heter) behöver Rs runtime laddas in och innan varje exekverbart kodblock används \"%%R\" för att markera att det är R som körs."
   ]
  },
  {
   "cell_type": "code",
   "execution_count": 139,
   "metadata": {
    "colab": {
     "base_uri": "https://localhost:8080/"
    },
    "id": "TCf3zR6C2hR9",
    "outputId": "14af9ca1-58c2-41e6-be23-9cd69d0e9b9e",
    "slideshow": {
     "slide_type": "fragment"
    }
   },
   "outputs": [
    {
     "name": "stdout",
     "output_type": "stream",
     "text": [
      "The rpy2.ipython extension is already loaded. To reload it, use:\n",
      "  %reload_ext rpy2.ipython\n"
     ]
    }
   ],
   "source": [
    "%load_ext rpy2.ipython"
   ]
  },
  {
   "cell_type": "code",
   "execution_count": 140,
   "metadata": {
    "colab": {
     "base_uri": "https://localhost:8080/"
    },
    "id": "K0InoeJb41-p",
    "outputId": "8d1e3209-c3b7-4026-ca96-beb69afc7325",
    "slideshow": {
     "slide_type": "subslide"
    }
   },
   "outputs": [
    {
     "name": "stdout",
     "output_type": "stream",
     "text": [
      "      City name Population\n",
      "1 San Francisco     852469\n",
      "2      San Jose    1015785\n",
      "3    Sacramento     485199\n"
     ]
    }
   ],
   "source": [
    "%%R\n",
    "\n",
    "city_names <- c('San Francisco', 'San Jose', 'Sacramento')\n",
    "population <- c(852469, 1015785, 485199)\n",
    "\n",
    "cities_df <- data.frame(city_names, population)\n",
    "colnames(cities_df) <- c('City name', 'Population')\n",
    "\n",
    "cities_df"
   ]
  },
  {
   "cell_type": "code",
   "execution_count": 141,
   "metadata": {
    "colab": {
     "base_uri": "https://localhost:8080/"
    },
    "id": "LGSgQ1XvDjhZ",
    "outputId": "904cc44b-536a-4657-f68d-0672555dc1d1",
    "slideshow": {
     "slide_type": "subslide"
    }
   },
   "outputs": [
    {
     "name": "stdout",
     "output_type": "stream",
     "text": [
      "      City name\n",
      "1 San Francisco\n",
      "2      San Jose\n",
      "3    Sacramento\n"
     ]
    }
   ],
   "source": [
    "%%R\n",
    "\n",
    "cities_df['City name']"
   ]
  },
  {
   "cell_type": "code",
   "execution_count": 142,
   "metadata": {
    "colab": {
     "base_uri": "https://localhost:8080/"
    },
    "id": "gKadaUL3E3Kd",
    "outputId": "9333d21a-26ef-4f5d-90bb-1b2e567e8c0e",
    "slideshow": {
     "slide_type": "fragment"
    }
   },
   "outputs": [
    {
     "name": "stdout",
     "output_type": "stream",
     "text": [
      "[1] \"San Jose\"\n"
     ]
    }
   ],
   "source": [
    "%%R\n",
    "\n",
    "cities_df[2, 'City name']"
   ]
  },
  {
   "cell_type": "code",
   "execution_count": 143,
   "metadata": {
    "colab": {
     "base_uri": "https://localhost:8080/"
    },
    "id": "aNbuIa_4Fpl6",
    "outputId": "99e49908-9d74-45ac-e090-5e10a8ff5af6",
    "slideshow": {
     "slide_type": "fragment"
    }
   },
   "outputs": [
    {
     "name": "stdout",
     "output_type": "stream",
     "text": [
      "      City name Population\n",
      "1 San Francisco     852469\n",
      "2      San Jose    1015785\n"
     ]
    }
   ],
   "source": [
    "%%R\n",
    "\n",
    "cities_df[0:2, ]"
   ]
  },
  {
   "cell_type": "markdown",
   "metadata": {
    "id": "KmjS_dCiF6hs",
    "slideshow": {
     "slide_type": "subslide"
    }
   },
   "source": [
    "Det är enkelt att lägga till nya kolumner:"
   ]
  },
  {
   "cell_type": "code",
   "execution_count": 144,
   "metadata": {
    "id": "clHsL_hDF9Xy",
    "slideshow": {
     "slide_type": "fragment"
    }
   },
   "outputs": [],
   "source": [
    "%%R\n",
    "\n",
    "cities_df['Area square miles'] <- c(46.87, 176.53, 97.92)"
   ]
  },
  {
   "cell_type": "code",
   "execution_count": 146,
   "metadata": {
    "id": "ePo3Sg0oGQq-",
    "slideshow": {
     "slide_type": "fragment"
    }
   },
   "outputs": [],
   "source": [
    "%%R\n",
    "\n",
    "cities_df['Population density'] <- cities_df['Population'] / cities_df['Area square miles']"
   ]
  },
  {
   "cell_type": "code",
   "execution_count": 147,
   "metadata": {
    "colab": {
     "base_uri": "https://localhost:8080/"
    },
    "id": "TwyVNQXkGZpK",
    "outputId": "fcd444ba-88f8-423a-f77b-f3afd952c46d",
    "slideshow": {
     "slide_type": "fragment"
    }
   },
   "outputs": [
    {
     "name": "stdout",
     "output_type": "stream",
     "text": [
      "      City name Population Area square miles Population density\n",
      "1 San Francisco     852469             46.87          18187.945\n",
      "2      San Jose    1015785            176.53           5754.178\n",
      "3    Sacramento     485199             97.92           4955.055\n"
     ]
    }
   ],
   "source": [
    "%%R\n",
    "\n",
    "cities_df"
   ]
  },
  {
   "cell_type": "markdown",
   "metadata": {
    "id": "xoxE7oKQGtca",
    "slideshow": {
     "slide_type": "subslide"
    }
   },
   "source": [
    "Även i R går det att läsa in data via externa färdiga dataset. Notera att i python skriver man \"import libraryname\" för att importa ett externt bibliotek medan man i R skriver \"library(libraryname)\". I båda språken måste biblioteket först installeras och i R görs det genom \"install.packages(libraryname)\".\n",
    "\n",
    "Notera att nedstående kod måste köras i Rstudio då minnet i Google Colab inte räcker till. "
   ]
  },
  {
   "cell_type": "code",
   "execution_count": 148,
   "metadata": {
    "colab": {
     "base_uri": "https://localhost:8080/"
    },
    "id": "BhqWC-olGy1w",
    "outputId": "4e2fbc22-b792-4f69-834f-07cfc2a27385",
    "slideshow": {
     "slide_type": "fragment"
    }
   },
   "outputs": [
    {
     "name": "stdout",
     "output_type": "stream",
     "text": [
      "NULL\n"
     ]
    }
   ],
   "source": [
    "%%R\n",
    "\n",
    "#install.packages(\"altair\")\n",
    "\n",
    "# library(\"altair\")\n",
    "\n",
    "# vega_data <- import_vega_data()\n",
    "\n",
    "# cars <- vega_data$cars()"
   ]
  },
  {
   "cell_type": "markdown",
   "metadata": {
    "id": "3dUYmqNxqNtH",
    "slideshow": {
     "slide_type": "subslide"
    }
   },
   "source": [
    "I Python och Pandas används .shape för att får ut hur många rader och kolumner en dataframe har. I R kan i stället funktionen dim() användas. Andra alternativ för att få ut antal rader är nrow() och antal kolumner ncol()."
   ]
  },
  {
   "cell_type": "code",
   "execution_count": 149,
   "metadata": {
    "colab": {
     "base_uri": "https://localhost:8080/"
    },
    "id": "adEfNVsHp6sQ",
    "outputId": "dd5dc65c-0b5a-4199-afd5-3cdabff2dade",
    "slideshow": {
     "slide_type": "fragment"
    }
   },
   "outputs": [
    {
     "name": "stdout",
     "output_type": "stream",
     "text": [
      "[1] 3 4\n",
      "[1] 3\n",
      "[1] 4\n"
     ]
    }
   ],
   "source": [
    "%%R\n",
    "\n",
    "print(dim(cities_df)) # Både rader och kolumner\n",
    "\n",
    "print(nrow(cities_df)) # Bara rader\n",
    "\n",
    "print(ncol(cities_df)) # Bara kolumner"
   ]
  },
  {
   "cell_type": "markdown",
   "metadata": {
    "id": "3DuJ2DNmqrZD",
    "slideshow": {
     "slide_type": "subslide"
    }
   },
   "source": [
    "Dataframes kan sammanfattas i R på följande sätt:"
   ]
  },
  {
   "cell_type": "code",
   "execution_count": 150,
   "metadata": {
    "colab": {
     "base_uri": "https://localhost:8080/"
    },
    "id": "A7zj-SMnqud8",
    "outputId": "67a14b34-5823-4612-c670-746708c9109c",
    "slideshow": {
     "slide_type": "fragment"
    }
   },
   "outputs": [
    {
     "name": "stdout",
     "output_type": "stream",
     "text": [
      "  City name           Population      Area square miles Population density\n",
      " Length:3           Min.   : 485199   Min.   : 46.87    Min.   : 4955     \n",
      " Class :character   1st Qu.: 668834   1st Qu.: 72.39    1st Qu.: 5355     \n",
      " Mode  :character   Median : 852469   Median : 97.92    Median : 5754     \n",
      "                    Mean   : 784484   Mean   :107.11    Mean   : 9632     \n",
      "                    3rd Qu.: 934127   3rd Qu.:137.22    3rd Qu.:11971     \n",
      "                    Max.   :1015785   Max.   :176.53    Max.   :18188     \n"
     ]
    }
   ],
   "source": [
    "%%R\n",
    "\n",
    "summary(cities_df)"
   ]
  },
  {
   "cell_type": "markdown",
   "metadata": {
    "id": "AL-OWlMyrDRQ",
    "slideshow": {
     "slide_type": "subslide"
    }
   },
   "source": [
    "Vidare går det att undersöka en delmängd av en dataframe genom att titta på de översta eller understa raderna:"
   ]
  },
  {
   "cell_type": "code",
   "execution_count": 151,
   "metadata": {
    "colab": {
     "base_uri": "https://localhost:8080/"
    },
    "id": "sK_iAb3irKZ_",
    "outputId": "5d29a011-b32f-41f0-fed8-0d2abbd2d04e",
    "slideshow": {
     "slide_type": "fragment"
    }
   },
   "outputs": [
    {
     "name": "stdout",
     "output_type": "stream",
     "text": [
      "      City name Population Area square miles Population density\n",
      "1 San Francisco     852469             46.87           18187.95\n"
     ]
    }
   ],
   "source": [
    "%%R\n",
    "\n",
    "head(cities_df) \n",
    "\n",
    "head(cities_df, 1) # Endast den översta raden"
   ]
  },
  {
   "cell_type": "code",
   "execution_count": 152,
   "metadata": {
    "colab": {
     "base_uri": "https://localhost:8080/"
    },
    "id": "N1N1dvL0rZ5S",
    "outputId": "cba3aafc-4514-477c-8897-2a212f2b41d1",
    "slideshow": {
     "slide_type": "fragment"
    }
   },
   "outputs": [
    {
     "name": "stdout",
     "output_type": "stream",
     "text": [
      "   City name Population Area square miles Population density\n",
      "3 Sacramento     485199             97.92           4955.055\n"
     ]
    }
   ],
   "source": [
    "%%R\n",
    "\n",
    "tail(cities_df, 1) # Endast den sista raden"
   ]
  },
  {
   "cell_type": "markdown",
   "metadata": {
    "id": "2DQ4QkNxrjI2",
    "slideshow": {
     "slide_type": "subslide"
    }
   },
   "source": [
    "Det går att ta ut en kolumn och köra aggregeringsfunktioner"
   ]
  },
  {
   "cell_type": "code",
   "execution_count": 153,
   "metadata": {
    "colab": {
     "base_uri": "https://localhost:8080/"
    },
    "id": "yLB9j4UYrjcI",
    "outputId": "6624d198-d3be-447e-de38-3d86ac8807b5",
    "slideshow": {
     "slide_type": "fragment"
    }
   },
   "outputs": [
    {
     "name": "stdout",
     "output_type": "stream",
     "text": [
      "[1] \"Antal förekomster per City name\"\n",
      "  n\n",
      "1 3\n",
      "[1] \"Antal rader: \"\n",
      "[1] 3\n"
     ]
    }
   ],
   "source": [
    "%%R\n",
    "\n",
    "# install.packages(\"plyr\")\n",
    "library(plyr)\n",
    "\n",
    "print('Antal förekomster per City name')\n",
    "print(count(cities_df['City name'])) # count använder biblioteket plyr\n",
    "\n",
    "print('Antal rader: ')\n",
    "print(nrow(cities_df)) "
   ]
  },
  {
   "cell_type": "code",
   "execution_count": 154,
   "metadata": {
    "colab": {
     "base_uri": "https://localhost:8080/"
    },
    "id": "mfxqvR5lss-x",
    "outputId": "0ac5eddd-98c6-4d6d-86d2-981a41855676",
    "slideshow": {
     "slide_type": "subslide"
    }
   },
   "outputs": [
    {
     "name": "stdout",
     "output_type": "stream",
     "text": [
      "      City name\n",
      "1 San Francisco\n",
      "2      San Jose\n",
      "3    Sacramento\n"
     ]
    }
   ],
   "source": [
    "%%R\n",
    "\n",
    "unique(cities_df['City name'])"
   ]
  },
  {
   "cell_type": "code",
   "execution_count": 155,
   "metadata": {
    "colab": {
     "base_uri": "https://localhost:8080/"
    },
    "id": "Yr7bQt9OtKkI",
    "outputId": "19718514-334a-4a2c-ac5a-37b2f5b235bd",
    "slideshow": {
     "slide_type": "fragment"
    }
   },
   "outputs": [
    {
     "name": "stdout",
     "output_type": "stream",
     "text": [
      "[1] 3\n"
     ]
    }
   ],
   "source": [
    "%%R\n",
    "\n",
    "unique_values <- unique(cities_df['City name'])\n",
    "\n",
    "num_unique_values <- nrow(unique_values)\n",
    "\n",
    "print(num_unique_values)"
   ]
  },
  {
   "cell_type": "markdown",
   "metadata": {
    "id": "eydEeZTQtz2e",
    "slideshow": {
     "slide_type": "subslide"
    }
   },
   "source": [
    "Det går att ta bort duplikatvärden och tomma värden i R på följande vis:"
   ]
  },
  {
   "cell_type": "code",
   "execution_count": 156,
   "metadata": {
    "colab": {
     "base_uri": "https://localhost:8080/"
    },
    "id": "Wvz4uFDutz-4",
    "outputId": "00a30290-4543-45c1-d3ae-62e925468a69",
    "slideshow": {
     "slide_type": "fragment"
    }
   },
   "outputs": [
    {
     "name": "stdout",
     "output_type": "stream",
     "text": [
      "    region           city_name         city_population \n",
      " Length:6           Length:6           Min.   : 34466  \n",
      " Class :character   Class :character   1st Qu.:177074  \n",
      " Mode  :character   Mode  :character   Median :177074  \n",
      "                                       Mean   :388689  \n",
      "                                       3rd Qu.:579281  \n",
      "                                       Max.   :975551  \n",
      "                                       NA's   :1       \n"
     ]
    }
   ],
   "source": [
    "%%R\n",
    "\n",
    "city_name <- c('Stockholm', 'Gothenburg', 'Malmo', 'Uppsala', 'Uppsala', 'Skovde')\n",
    "region <- c('East', 'West', 'South', 'East', 'East', 'West')\n",
    "city_population <- c(975551, 579281, NaN, 177074, 177074, 34466)\n",
    "\n",
    "cities_df <- data.frame(region, city_name, city_population)\n",
    "summary(cities_df)"
   ]
  },
  {
   "cell_type": "code",
   "execution_count": 157,
   "metadata": {
    "colab": {
     "base_uri": "https://localhost:8080/"
    },
    "id": "GF65EHGxybzO",
    "outputId": "7cf030e9-2a2c-4873-fe97-7b39997cf525",
    "slideshow": {
     "slide_type": "subslide"
    }
   },
   "outputs": [
    {
     "name": "stdout",
     "output_type": "stream",
     "text": [
      "  region  city_name city_population\n",
      "1   East  Stockholm          975551\n",
      "2   West Gothenburg          579281\n",
      "3   East    Uppsala          177074\n",
      "4   East    Uppsala          177074\n",
      "5   West     Skovde           34466\n"
     ]
    }
   ],
   "source": [
    "%%R\n",
    "\n",
    "library(tidyr)\n",
    "\n",
    "# Ta bort Na-värden (saknade värden) - två olika sätt\n",
    "\n",
    "drop_na(cities_df) # med tidyr\n",
    "\n",
    "cities_df[!is.na(cities_df$city_population), ] # inbyggd i R\n",
    "\n",
    "cities_df <- drop_na(cities_df)\n",
    "\n",
    "cities_df"
   ]
  },
  {
   "cell_type": "code",
   "execution_count": 158,
   "metadata": {
    "colab": {
     "base_uri": "https://localhost:8080/"
    },
    "id": "Q3MdmbN4yb9t",
    "outputId": "56a9292b-bdf0-4900-9742-036ec960446a",
    "slideshow": {
     "slide_type": "subslide"
    }
   },
   "outputs": [
    {
     "name": "stdout",
     "output_type": "stream",
     "text": [
      "  region  city_name city_population\n",
      "1   East  Stockholm          975551\n",
      "2   West Gothenburg          579281\n",
      "3   East    Uppsala          177074\n",
      "4   West     Skovde           34466\n"
     ]
    }
   ],
   "source": [
    "%%R\n",
    "\n",
    "library(dplyr)\n",
    "\n",
    "# Ta bort duplikat\n",
    "cities_df <- distinct(cities_df)\n",
    "\n",
    "cities_df"
   ]
  },
  {
   "cell_type": "markdown",
   "metadata": {
    "id": "zRMS0mTCzuXN",
    "slideshow": {
     "slide_type": "subslide"
    }
   },
   "source": [
    "Det går även att filtrera datamängden baserat på de värden som finns:"
   ]
  },
  {
   "cell_type": "code",
   "execution_count": 159,
   "metadata": {
    "colab": {
     "base_uri": "https://localhost:8080/"
    },
    "id": "TO9-BYFgzzw-",
    "outputId": "cb0097fb-f023-4770-bd17-2fc85eb5a3c6",
    "slideshow": {
     "slide_type": "fragment"
    }
   },
   "outputs": [
    {
     "name": "stdout",
     "output_type": "stream",
     "text": [
      "     city_name\n",
      "[1,]      TRUE\n",
      "[2,]      TRUE\n",
      "[3,]     FALSE\n",
      "[4,]     FALSE\n"
     ]
    }
   ],
   "source": [
    "%%R\n",
    "\n",
    "city_mask <- cities_df['city_name'] == 'Stockholm' | cities_df['city_name'] == 'Gothenburg'\n",
    "\n",
    "city_mask"
   ]
  },
  {
   "cell_type": "code",
   "execution_count": 160,
   "metadata": {
    "colab": {
     "base_uri": "https://localhost:8080/"
    },
    "id": "OfdJZr0n0Cyh",
    "outputId": "4847cfd6-0470-4611-c60f-6a35298eb691",
    "slideshow": {
     "slide_type": "subslide"
    }
   },
   "outputs": [
    {
     "name": "stdout",
     "output_type": "stream",
     "text": [
      "  region  city_name city_population\n",
      "1   East  Stockholm          975551\n",
      "2   West Gothenburg          579281\n"
     ]
    }
   ],
   "source": [
    "%%R\n",
    "\n",
    "cities_df[city_mask, ]"
   ]
  },
  {
   "cell_type": "code",
   "execution_count": 161,
   "metadata": {
    "colab": {
     "base_uri": "https://localhost:8080/"
    },
    "id": "8tngx8Xr1AF3",
    "outputId": "5e9f4229-df03-411c-bc66-0f06b9a34c2a",
    "slideshow": {
     "slide_type": "fragment"
    }
   },
   "outputs": [
    {
     "name": "stdout",
     "output_type": "stream",
     "text": [
      "[1] 777416\n"
     ]
    }
   ],
   "source": [
    "%%R\n",
    "\n",
    "mean(cities_df[city_mask, 'city_population'])"
   ]
  },
  {
   "cell_type": "code",
   "execution_count": 162,
   "metadata": {
    "colab": {
     "base_uri": "https://localhost:8080/"
    },
    "id": "Fko46oTm1KnU",
    "outputId": "08e81200-9a8e-4d92-8889-5e74860e17cf",
    "slideshow": {
     "slide_type": "fragment"
    }
   },
   "outputs": [
    {
     "name": "stdout",
     "output_type": "stream",
     "text": [
      "[1] 441593\n"
     ]
    }
   ],
   "source": [
    "%%R\n",
    "\n",
    "mean(cities_df[, 'city_population'])"
   ]
  },
  {
   "cell_type": "markdown",
   "metadata": {
    "id": "5kRm0ZCV2f42",
    "slideshow": {
     "slide_type": "subslide"
    }
   },
   "source": [
    "Det går att sortera en dataframe baserat på de värden som finns i en kolumn"
   ]
  },
  {
   "cell_type": "code",
   "execution_count": 163,
   "metadata": {
    "colab": {
     "base_uri": "https://localhost:8080/"
    },
    "id": "YhdNeT0C2J8Y",
    "outputId": "d51ce928-10d4-4d75-d93e-2d17ff2f27bf",
    "slideshow": {
     "slide_type": "fragment"
    }
   },
   "outputs": [
    {
     "name": "stdout",
     "output_type": "stream",
     "text": [
      "  region  city_name city_population\n",
      "4   West     Skovde           34466\n",
      "3   East    Uppsala          177074\n",
      "2   West Gothenburg          579281\n",
      "1   East  Stockholm          975551\n"
     ]
    }
   ],
   "source": [
    "%%R\n",
    "\n",
    "cities_df[order(cities_df$city_population), ]"
   ]
  },
  {
   "cell_type": "code",
   "execution_count": 164,
   "metadata": {
    "colab": {
     "base_uri": "https://localhost:8080/"
    },
    "id": "aW_zsLbf4HMV",
    "outputId": "f983b0e1-0bc6-437d-d3fb-0b83cd1af5a8",
    "slideshow": {
     "slide_type": "fragment"
    }
   },
   "outputs": [
    {
     "name": "stdout",
     "output_type": "stream",
     "text": [
      "  region  city_name city_population\n",
      "1   East  Stockholm          975551\n",
      "2   West Gothenburg          579281\n",
      "3   East    Uppsala          177074\n",
      "4   West     Skovde           34466\n"
     ]
    }
   ],
   "source": [
    "%%R\n",
    "\n",
    "cities_df[order(-cities_df$city_population), ]"
   ]
  },
  {
   "cell_type": "markdown",
   "metadata": {
    "id": "9iEv5-c444md",
    "slideshow": {
     "slide_type": "subslide"
    }
   },
   "source": [
    "Det går även att gruppera på en kolumn:"
   ]
  },
  {
   "cell_type": "code",
   "execution_count": 165,
   "metadata": {
    "colab": {
     "base_uri": "https://localhost:8080/"
    },
    "id": "RAxJl4LE4KWf",
    "outputId": "c10b2b49-6503-4bae-ab06-abf2e9eec3df",
    "slideshow": {
     "slide_type": "fragment"
    }
   },
   "outputs": [
    {
     "name": "stdout",
     "output_type": "stream",
     "text": [
      "# A tibble: 2 × 2\n",
      "  region mean_population\n",
      "  <chr>            <dbl>\n",
      "1 East           576312.\n",
      "2 West           306874.\n"
     ]
    }
   ],
   "source": [
    "%%R\n",
    "\n",
    "require(dplyr)\n",
    "\n",
    "grouping <- group_by(cities_df, region)\n",
    "\n",
    "summarise(grouping, mean_population = mean(city_population))"
   ]
  },
  {
   "cell_type": "markdown",
   "metadata": {
    "id": "Jl86K7rc9KYL",
    "slideshow": {
     "slide_type": "subslide"
    }
   },
   "source": [
    "Fler exempel kan hittas här: https://www.w3resource.com/r-programming-exercises/dataframe/index.php"
   ]
  }
 ],
 "metadata": {
  "celltoolbar": "Slideshow",
  "colab": {
   "collapsed_sections": [],
   "name": "4_dataframes_in_R",
   "provenance": []
  },
  "kernelspec": {
   "display_name": "Python 3",
   "language": "python",
   "name": "python3"
  },
  "language_info": {
   "codemirror_mode": {
    "name": "ipython",
    "version": 3
   },
   "file_extension": ".py",
   "mimetype": "text/x-python",
   "name": "python",
   "nbconvert_exporter": "python",
   "pygments_lexer": "ipython3",
   "version": "3.7.4"
  }
 },
 "nbformat": 4,
 "nbformat_minor": 1
}
